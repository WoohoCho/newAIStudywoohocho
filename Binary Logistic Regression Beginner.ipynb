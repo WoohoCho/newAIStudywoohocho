{
 "cells": [
  {
   "cell_type": "code",
   "execution_count": 36,
   "id": "9cdd4b95",
   "metadata": {},
   "outputs": [],
   "source": [
    "import numpy as np\n",
    "\n",
    "char_arr = np.array(['A', 'B', 'C' , 'C' , 'E' ])\n"
   ]
  },
  {
   "cell_type": "code",
   "execution_count": 37,
   "id": "aaa33397",
   "metadata": {},
   "outputs": [
    {
     "name": "stdout",
     "output_type": "stream",
     "text": [
      "['A' 'B' 'C' 'C' 'E']\n"
     ]
    }
   ],
   "source": [
    "print(char_arr)"
   ]
  },
  {
   "cell_type": "code",
   "execution_count": 38,
   "id": "53867f44",
   "metadata": {},
   "outputs": [
    {
     "name": "stdout",
     "output_type": "stream",
     "text": [
      "['A' 'C']\n"
     ]
    }
   ],
   "source": [
    "print(char_arr[[True, False, False, True, False]])"
   ]
  },
  {
   "cell_type": "code",
   "execution_count": 39,
   "id": "18856470",
   "metadata": {},
   "outputs": [
    {
     "data": {
      "text/html": [
       "<div>\n",
       "<style scoped>\n",
       "    .dataframe tbody tr th:only-of-type {\n",
       "        vertical-align: middle;\n",
       "    }\n",
       "\n",
       "    .dataframe tbody tr th {\n",
       "        vertical-align: top;\n",
       "    }\n",
       "\n",
       "    .dataframe thead th {\n",
       "        text-align: right;\n",
       "    }\n",
       "</style>\n",
       "<table border=\"1\" class=\"dataframe\">\n",
       "  <thead>\n",
       "    <tr style=\"text-align: right;\">\n",
       "      <th></th>\n",
       "      <th>Species</th>\n",
       "      <th>Weight</th>\n",
       "      <th>Length</th>\n",
       "      <th>Diagonal</th>\n",
       "      <th>Height</th>\n",
       "      <th>Width</th>\n",
       "    </tr>\n",
       "  </thead>\n",
       "  <tbody>\n",
       "    <tr>\n",
       "      <th>0</th>\n",
       "      <td>Bream</td>\n",
       "      <td>242.0</td>\n",
       "      <td>25.4</td>\n",
       "      <td>30.0</td>\n",
       "      <td>11.5200</td>\n",
       "      <td>4.0200</td>\n",
       "    </tr>\n",
       "    <tr>\n",
       "      <th>1</th>\n",
       "      <td>Bream</td>\n",
       "      <td>290.0</td>\n",
       "      <td>26.3</td>\n",
       "      <td>31.2</td>\n",
       "      <td>12.4800</td>\n",
       "      <td>4.3056</td>\n",
       "    </tr>\n",
       "    <tr>\n",
       "      <th>2</th>\n",
       "      <td>Bream</td>\n",
       "      <td>340.0</td>\n",
       "      <td>26.5</td>\n",
       "      <td>31.1</td>\n",
       "      <td>12.3778</td>\n",
       "      <td>4.6961</td>\n",
       "    </tr>\n",
       "    <tr>\n",
       "      <th>3</th>\n",
       "      <td>Bream</td>\n",
       "      <td>363.0</td>\n",
       "      <td>29.0</td>\n",
       "      <td>33.5</td>\n",
       "      <td>12.7300</td>\n",
       "      <td>4.4555</td>\n",
       "    </tr>\n",
       "    <tr>\n",
       "      <th>4</th>\n",
       "      <td>Bream</td>\n",
       "      <td>430.0</td>\n",
       "      <td>29.0</td>\n",
       "      <td>34.0</td>\n",
       "      <td>12.4440</td>\n",
       "      <td>5.1340</td>\n",
       "    </tr>\n",
       "  </tbody>\n",
       "</table>\n",
       "</div>"
      ],
      "text/plain": [
       "  Species  Weight  Length  Diagonal   Height   Width\n",
       "0   Bream   242.0    25.4      30.0  11.5200  4.0200\n",
       "1   Bream   290.0    26.3      31.2  12.4800  4.3056\n",
       "2   Bream   340.0    26.5      31.1  12.3778  4.6961\n",
       "3   Bream   363.0    29.0      33.5  12.7300  4.4555\n",
       "4   Bream   430.0    29.0      34.0  12.4440  5.1340"
      ]
     },
     "execution_count": 39,
     "metadata": {},
     "output_type": "execute_result"
    }
   ],
   "source": [
    "#위의 방식을 이용할 수 있다.\n",
    "import pandas as pd\n",
    "fish = pd.read_csv('https://bit.ly/fish_csv_data')\n",
    "fish.head()"
   ]
  },
  {
   "cell_type": "code",
   "execution_count": 40,
   "id": "c535c7f6",
   "metadata": {},
   "outputs": [
    {
     "name": "stdout",
     "output_type": "stream",
     "text": [
      "['Bream' 'Roach' 'Whitefish' 'Parkki' 'Perch' 'Pike' 'Smelt']\n"
     ]
    }
   ],
   "source": [
    " print(pd.unique(fish['Species'])) #분류 대상 클래스들을 출력!"
   ]
  },
  {
   "cell_type": "code",
   "execution_count": 41,
   "id": "8719b77c",
   "metadata": {},
   "outputs": [],
   "source": [
    "fish_input = fish[['Weight','Length','Diagonal','Height','Width']].to_numpy()"
   ]
  },
  {
   "cell_type": "code",
   "execution_count": 42,
   "id": "620fee5a",
   "metadata": {},
   "outputs": [
    {
     "name": "stdout",
     "output_type": "stream",
     "text": [
      "[[2.42000e+02 2.54000e+01 3.00000e+01 1.15200e+01 4.02000e+00]\n",
      " [2.90000e+02 2.63000e+01 3.12000e+01 1.24800e+01 4.30560e+00]\n",
      " [3.40000e+02 2.65000e+01 3.11000e+01 1.23778e+01 4.69610e+00]\n",
      " [3.63000e+02 2.90000e+01 3.35000e+01 1.27300e+01 4.45550e+00]\n",
      " [4.30000e+02 2.90000e+01 3.40000e+01 1.24440e+01 5.13400e+00]\n",
      " [4.50000e+02 2.97000e+01 3.47000e+01 1.36024e+01 4.92740e+00]\n",
      " [5.00000e+02 2.97000e+01 3.45000e+01 1.41795e+01 5.27850e+00]\n",
      " [3.90000e+02 3.00000e+01 3.50000e+01 1.26700e+01 4.69000e+00]\n",
      " [4.50000e+02 3.00000e+01 3.51000e+01 1.40049e+01 4.84380e+00]\n",
      " [5.00000e+02 3.07000e+01 3.62000e+01 1.42266e+01 4.95940e+00]\n",
      " [4.75000e+02 3.10000e+01 3.62000e+01 1.42628e+01 5.10420e+00]\n",
      " [5.00000e+02 3.10000e+01 3.62000e+01 1.43714e+01 4.81460e+00]\n",
      " [5.00000e+02 3.15000e+01 3.64000e+01 1.37592e+01 4.36800e+00]\n",
      " [3.40000e+02 3.20000e+01 3.73000e+01 1.39129e+01 5.07280e+00]\n",
      " [6.00000e+02 3.20000e+01 3.72000e+01 1.49544e+01 5.17080e+00]\n",
      " [6.00000e+02 3.20000e+01 3.72000e+01 1.54380e+01 5.58000e+00]\n",
      " [7.00000e+02 3.30000e+01 3.83000e+01 1.48604e+01 5.28540e+00]\n",
      " [7.00000e+02 3.30000e+01 3.85000e+01 1.49380e+01 5.19750e+00]\n",
      " [6.10000e+02 3.35000e+01 3.86000e+01 1.56330e+01 5.13380e+00]\n",
      " [6.50000e+02 3.35000e+01 3.87000e+01 1.44738e+01 5.72760e+00]\n",
      " [5.75000e+02 3.40000e+01 3.95000e+01 1.51285e+01 5.56950e+00]\n",
      " [6.85000e+02 3.40000e+01 3.92000e+01 1.59936e+01 5.37040e+00]\n",
      " [6.20000e+02 3.45000e+01 3.97000e+01 1.55227e+01 5.28010e+00]\n",
      " [6.80000e+02 3.50000e+01 4.06000e+01 1.54686e+01 6.13060e+00]\n",
      " [7.00000e+02 3.50000e+01 4.05000e+01 1.62405e+01 5.58900e+00]\n",
      " [7.25000e+02 3.50000e+01 4.09000e+01 1.63600e+01 6.05320e+00]\n",
      " [7.20000e+02 3.50000e+01 4.06000e+01 1.63618e+01 6.09000e+00]\n",
      " [7.14000e+02 3.60000e+01 4.15000e+01 1.65170e+01 5.85150e+00]\n",
      " [8.50000e+02 3.60000e+01 4.16000e+01 1.68896e+01 6.19840e+00]\n",
      " [1.00000e+03 3.70000e+01 4.26000e+01 1.89570e+01 6.60300e+00]\n",
      " [9.20000e+02 3.85000e+01 4.41000e+01 1.80369e+01 6.30630e+00]\n",
      " [9.55000e+02 3.85000e+01 4.40000e+01 1.80840e+01 6.29200e+00]\n",
      " [9.25000e+02 3.95000e+01 4.53000e+01 1.87542e+01 6.74970e+00]\n",
      " [9.75000e+02 4.10000e+01 4.59000e+01 1.86354e+01 6.74730e+00]\n",
      " [9.50000e+02 4.10000e+01 4.65000e+01 1.76235e+01 6.37050e+00]\n",
      " [4.00000e+01 1.41000e+01 1.62000e+01 4.14720e+00 2.26800e+00]\n",
      " [6.90000e+01 1.82000e+01 2.03000e+01 5.29830e+00 2.82170e+00]\n",
      " [7.80000e+01 1.88000e+01 2.12000e+01 5.57560e+00 2.90440e+00]\n",
      " [8.70000e+01 1.98000e+01 2.22000e+01 5.61660e+00 3.17460e+00]\n",
      " [1.20000e+02 2.00000e+01 2.22000e+01 6.21600e+00 3.57420e+00]\n",
      " [0.00000e+00 2.05000e+01 2.28000e+01 6.47520e+00 3.35160e+00]\n",
      " [1.10000e+02 2.08000e+01 2.31000e+01 6.16770e+00 3.39570e+00]\n",
      " [1.20000e+02 2.10000e+01 2.37000e+01 6.11460e+00 3.29430e+00]\n",
      " [1.50000e+02 2.20000e+01 2.47000e+01 5.80450e+00 3.75440e+00]\n",
      " [1.45000e+02 2.20000e+01 2.43000e+01 6.63390e+00 3.54780e+00]\n",
      " [1.60000e+02 2.25000e+01 2.53000e+01 7.03340e+00 3.82030e+00]\n",
      " [1.40000e+02 2.25000e+01 2.50000e+01 6.55000e+00 3.32500e+00]\n",
      " [1.60000e+02 2.25000e+01 2.50000e+01 6.40000e+00 3.80000e+00]\n",
      " [1.69000e+02 2.40000e+01 2.72000e+01 7.53440e+00 3.83520e+00]\n",
      " [1.61000e+02 2.34000e+01 2.67000e+01 6.91530e+00 3.63120e+00]\n",
      " [2.00000e+02 2.35000e+01 2.68000e+01 7.39680e+00 4.12720e+00]\n",
      " [1.80000e+02 2.52000e+01 2.79000e+01 7.08660e+00 3.90600e+00]\n",
      " [2.90000e+02 2.60000e+01 2.92000e+01 8.87680e+00 4.49680e+00]\n",
      " [2.72000e+02 2.70000e+01 3.06000e+01 8.56800e+00 4.77360e+00]\n",
      " [3.90000e+02 3.17000e+01 3.50000e+01 9.48500e+00 5.35500e+00]\n",
      " [2.70000e+02 2.60000e+01 2.87000e+01 8.38040e+00 4.24760e+00]\n",
      " [2.70000e+02 2.65000e+01 2.93000e+01 8.14540e+00 4.24850e+00]\n",
      " [3.06000e+02 2.80000e+01 3.08000e+01 8.77800e+00 4.68160e+00]\n",
      " [5.40000e+02 3.10000e+01 3.40000e+01 1.07440e+01 6.56200e+00]\n",
      " [8.00000e+02 3.64000e+01 3.96000e+01 1.17612e+01 6.57360e+00]\n",
      " [1.00000e+03 4.00000e+01 4.35000e+01 1.23540e+01 6.52500e+00]\n",
      " [5.50000e+01 1.47000e+01 1.65000e+01 6.84750e+00 2.32650e+00]\n",
      " [6.00000e+01 1.55000e+01 1.74000e+01 6.57720e+00 2.31420e+00]\n",
      " [9.00000e+01 1.77000e+01 1.98000e+01 7.40520e+00 2.67300e+00]\n",
      " [1.20000e+02 1.90000e+01 2.13000e+01 8.39220e+00 2.91810e+00]\n",
      " [1.50000e+02 2.00000e+01 2.24000e+01 8.89280e+00 3.29280e+00]\n",
      " [1.40000e+02 2.07000e+01 2.32000e+01 8.53760e+00 3.29440e+00]\n",
      " [1.70000e+02 2.07000e+01 2.32000e+01 9.39600e+00 3.41040e+00]\n",
      " [1.45000e+02 2.15000e+01 2.41000e+01 9.73640e+00 3.15710e+00]\n",
      " [2.00000e+02 2.30000e+01 2.58000e+01 1.03458e+01 3.66360e+00]\n",
      " [2.73000e+02 2.50000e+01 2.80000e+01 1.10880e+01 4.14400e+00]\n",
      " [3.00000e+02 2.60000e+01 2.90000e+01 1.13680e+01 4.23400e+00]\n",
      " [5.90000e+00 8.40000e+00 8.80000e+00 2.11200e+00 1.40800e+00]\n",
      " [3.20000e+01 1.37000e+01 1.47000e+01 3.52800e+00 1.99920e+00]\n",
      " [4.00000e+01 1.50000e+01 1.60000e+01 3.82400e+00 2.43200e+00]\n",
      " [5.15000e+01 1.62000e+01 1.72000e+01 4.59240e+00 2.63160e+00]\n",
      " [7.00000e+01 1.74000e+01 1.85000e+01 4.58800e+00 2.94150e+00]\n",
      " [1.00000e+02 1.80000e+01 1.92000e+01 5.22240e+00 3.32160e+00]\n",
      " [7.80000e+01 1.87000e+01 1.94000e+01 5.19920e+00 3.12340e+00]\n",
      " [8.00000e+01 1.90000e+01 2.02000e+01 5.63580e+00 3.05020e+00]\n",
      " [8.50000e+01 1.96000e+01 2.08000e+01 5.13760e+00 3.03680e+00]\n",
      " [8.50000e+01 2.00000e+01 2.10000e+01 5.08200e+00 2.77200e+00]\n",
      " [1.10000e+02 2.10000e+01 2.25000e+01 5.69250e+00 3.55500e+00]\n",
      " [1.15000e+02 2.10000e+01 2.25000e+01 5.91750e+00 3.30750e+00]\n",
      " [1.25000e+02 2.10000e+01 2.25000e+01 5.69250e+00 3.66750e+00]\n",
      " [1.30000e+02 2.13000e+01 2.28000e+01 6.38400e+00 3.53400e+00]\n",
      " [1.20000e+02 2.20000e+01 2.35000e+01 6.11000e+00 3.40750e+00]\n",
      " [1.20000e+02 2.20000e+01 2.35000e+01 5.64000e+00 3.52500e+00]\n",
      " [1.30000e+02 2.20000e+01 2.35000e+01 6.11000e+00 3.52500e+00]\n",
      " [1.35000e+02 2.20000e+01 2.35000e+01 5.87500e+00 3.52500e+00]\n",
      " [1.10000e+02 2.20000e+01 2.35000e+01 5.52250e+00 3.99500e+00]\n",
      " [1.30000e+02 2.25000e+01 2.40000e+01 5.85600e+00 3.62400e+00]\n",
      " [1.50000e+02 2.25000e+01 2.40000e+01 6.79200e+00 3.62400e+00]\n",
      " [1.45000e+02 2.27000e+01 2.42000e+01 5.95320e+00 3.63000e+00]\n",
      " [1.50000e+02 2.30000e+01 2.45000e+01 5.21850e+00 3.62600e+00]\n",
      " [1.70000e+02 2.35000e+01 2.50000e+01 6.27500e+00 3.72500e+00]\n",
      " [2.25000e+02 2.40000e+01 2.55000e+01 7.29300e+00 3.72300e+00]\n",
      " [1.45000e+02 2.40000e+01 2.55000e+01 6.37500e+00 3.82500e+00]\n",
      " [1.88000e+02 2.46000e+01 2.62000e+01 6.73340e+00 4.16580e+00]\n",
      " [1.80000e+02 2.50000e+01 2.65000e+01 6.43950e+00 3.68350e+00]\n",
      " [1.97000e+02 2.56000e+01 2.70000e+01 6.56100e+00 4.23900e+00]\n",
      " [2.18000e+02 2.65000e+01 2.80000e+01 7.16800e+00 4.14400e+00]\n",
      " [3.00000e+02 2.73000e+01 2.87000e+01 8.32300e+00 5.13730e+00]\n",
      " [2.60000e+02 2.75000e+01 2.89000e+01 7.16720e+00 4.33500e+00]\n",
      " [2.65000e+02 2.75000e+01 2.89000e+01 7.05160e+00 4.33500e+00]\n",
      " [2.50000e+02 2.75000e+01 2.89000e+01 7.28280e+00 4.56620e+00]\n",
      " [2.50000e+02 2.80000e+01 2.94000e+01 7.82040e+00 4.20420e+00]\n",
      " [3.00000e+02 2.87000e+01 3.01000e+01 7.58520e+00 4.63540e+00]\n",
      " [3.20000e+02 3.00000e+01 3.16000e+01 7.61560e+00 4.77160e+00]\n",
      " [5.14000e+02 3.28000e+01 3.40000e+01 1.00300e+01 6.01800e+00]\n",
      " [5.56000e+02 3.45000e+01 3.65000e+01 1.02565e+01 6.38750e+00]\n",
      " [8.40000e+02 3.50000e+01 3.73000e+01 1.14884e+01 7.79570e+00]\n",
      " [6.85000e+02 3.65000e+01 3.90000e+01 1.08810e+01 6.86400e+00]\n",
      " [7.00000e+02 3.60000e+01 3.83000e+01 1.06091e+01 6.74080e+00]\n",
      " [7.00000e+02 3.70000e+01 3.94000e+01 1.08350e+01 6.26460e+00]\n",
      " [6.90000e+02 3.70000e+01 3.93000e+01 1.05717e+01 6.36660e+00]\n",
      " [9.00000e+02 3.90000e+01 4.14000e+01 1.11366e+01 7.49340e+00]\n",
      " [6.50000e+02 3.90000e+01 4.14000e+01 1.11366e+01 6.00300e+00]\n",
      " [8.20000e+02 3.90000e+01 4.13000e+01 1.24313e+01 7.35140e+00]\n",
      " [8.50000e+02 4.00000e+01 4.23000e+01 1.19286e+01 7.10640e+00]\n",
      " [9.00000e+02 4.00000e+01 4.25000e+01 1.17300e+01 7.22500e+00]\n",
      " [1.01500e+03 4.00000e+01 4.24000e+01 1.23808e+01 7.46240e+00]\n",
      " [8.20000e+02 4.00000e+01 4.25000e+01 1.11350e+01 6.63000e+00]\n",
      " [1.10000e+03 4.20000e+01 4.46000e+01 1.28002e+01 6.86840e+00]\n",
      " [1.00000e+03 4.30000e+01 4.52000e+01 1.19328e+01 7.27720e+00]\n",
      " [1.10000e+03 4.30000e+01 4.55000e+01 1.25125e+01 7.41650e+00]\n",
      " [1.00000e+03 4.35000e+01 4.60000e+01 1.26040e+01 8.14200e+00]\n",
      " [1.00000e+03 4.40000e+01 4.66000e+01 1.24888e+01 7.59580e+00]\n",
      " [2.00000e+02 3.23000e+01 3.48000e+01 5.56800e+00 3.37560e+00]\n",
      " [3.00000e+02 3.40000e+01 3.78000e+01 5.70780e+00 4.15800e+00]\n",
      " [3.00000e+02 3.50000e+01 3.88000e+01 5.93640e+00 4.38440e+00]\n",
      " [3.00000e+02 3.73000e+01 3.98000e+01 6.28840e+00 4.01980e+00]\n",
      " [4.30000e+02 3.80000e+01 4.05000e+01 7.29000e+00 4.57650e+00]\n",
      " [3.45000e+02 3.85000e+01 4.10000e+01 6.39600e+00 3.97700e+00]\n",
      " [4.56000e+02 4.25000e+01 4.55000e+01 7.28000e+00 4.32250e+00]\n",
      " [5.10000e+02 4.25000e+01 4.55000e+01 6.82500e+00 4.45900e+00]\n",
      " [5.40000e+02 4.30000e+01 4.58000e+01 7.78600e+00 5.12960e+00]\n",
      " [5.00000e+02 4.50000e+01 4.80000e+01 6.96000e+00 4.89600e+00]\n",
      " [5.67000e+02 4.60000e+01 4.87000e+01 7.79200e+00 4.87000e+00]\n",
      " [7.70000e+02 4.80000e+01 5.12000e+01 7.68000e+00 5.37600e+00]\n",
      " [9.50000e+02 5.17000e+01 5.51000e+01 8.92620e+00 6.17120e+00]\n",
      " [1.25000e+03 5.60000e+01 5.97000e+01 1.06863e+01 6.98490e+00]\n",
      " [1.60000e+03 6.00000e+01 6.40000e+01 9.60000e+00 6.14400e+00]\n",
      " [1.55000e+03 6.00000e+01 6.40000e+01 9.60000e+00 6.14400e+00]\n",
      " [1.65000e+03 6.34000e+01 6.80000e+01 1.08120e+01 7.48000e+00]\n",
      " [6.70000e+00 9.80000e+00 1.08000e+01 1.73880e+00 1.04760e+00]\n",
      " [7.50000e+00 1.05000e+01 1.16000e+01 1.97200e+00 1.16000e+00]\n",
      " [7.00000e+00 1.06000e+01 1.16000e+01 1.72840e+00 1.14840e+00]\n",
      " [9.70000e+00 1.10000e+01 1.20000e+01 2.19600e+00 1.38000e+00]\n",
      " [9.80000e+00 1.12000e+01 1.24000e+01 2.08320e+00 1.27720e+00]\n",
      " [8.70000e+00 1.13000e+01 1.26000e+01 1.97820e+00 1.28520e+00]\n",
      " [1.00000e+01 1.18000e+01 1.31000e+01 2.21390e+00 1.28380e+00]\n",
      " [9.90000e+00 1.18000e+01 1.31000e+01 2.21390e+00 1.16590e+00]\n",
      " [9.80000e+00 1.20000e+01 1.32000e+01 2.20440e+00 1.14840e+00]\n",
      " [1.22000e+01 1.22000e+01 1.34000e+01 2.09040e+00 1.39360e+00]\n",
      " [1.34000e+01 1.24000e+01 1.35000e+01 2.43000e+00 1.26900e+00]\n",
      " [1.22000e+01 1.30000e+01 1.38000e+01 2.27700e+00 1.25580e+00]\n",
      " [1.97000e+01 1.43000e+01 1.52000e+01 2.87280e+00 2.06720e+00]\n",
      " [1.99000e+01 1.50000e+01 1.62000e+01 2.93220e+00 1.87920e+00]]\n"
     ]
    }
   ],
   "source": [
    "print(fish_input)"
   ]
  },
  {
   "cell_type": "code",
   "execution_count": 43,
   "id": "77ac2682",
   "metadata": {},
   "outputs": [
    {
     "name": "stdout",
     "output_type": "stream",
     "text": [
      "[[242.      25.4     30.      11.52     4.02  ]\n",
      " [290.      26.3     31.2     12.48     4.3056]\n",
      " [340.      26.5     31.1     12.3778   4.6961]\n",
      " [363.      29.      33.5     12.73     4.4555]\n",
      " [430.      29.      34.      12.444    5.134 ]]\n"
     ]
    }
   ],
   "source": [
    "print(fish_input[:5])"
   ]
  },
  {
   "cell_type": "code",
   "execution_count": 44,
   "id": "80242f51",
   "metadata": {},
   "outputs": [],
   "source": [
    "fish_target = fish[['Species']].to_numpy()"
   ]
  },
  {
   "cell_type": "code",
   "execution_count": 45,
   "id": "dab88ddb",
   "metadata": {},
   "outputs": [
    {
     "name": "stdout",
     "output_type": "stream",
     "text": [
      "[['Bream']\n",
      " ['Bream']\n",
      " ['Bream']\n",
      " ['Bream']\n",
      " ['Bream']]\n"
     ]
    }
   ],
   "source": [
    "print(fish_target[:5])"
   ]
  },
  {
   "cell_type": "code",
   "execution_count": 46,
   "id": "9f918803",
   "metadata": {},
   "outputs": [],
   "source": [
    "#레이블과 레이블이 아닌 데이터를 분리한 후 진행관정 中\n",
    "from sklearn.model_selection import train_test_split\n"
   ]
  },
  {
   "cell_type": "code",
   "execution_count": 47,
   "id": "c23b5c1c",
   "metadata": {},
   "outputs": [],
   "source": [
    "train_input, test_input, train_target, test_target = train_test_split( fish_input, fish_target, random_state=42)"
   ]
  },
  {
   "cell_type": "code",
   "execution_count": 48,
   "id": "9db96eef",
   "metadata": {},
   "outputs": [],
   "source": [
    "from sklearn.preprocessing import StandardScaler"
   ]
  },
  {
   "cell_type": "code",
   "execution_count": 49,
   "id": "77779a35",
   "metadata": {},
   "outputs": [],
   "source": [
    "ss = StandardScaler()"
   ]
  },
  {
   "cell_type": "code",
   "execution_count": 50,
   "id": "1f7a97af",
   "metadata": {},
   "outputs": [
    {
     "data": {
      "text/html": [
       "<style>#sk-container-id-3 {color: black;}#sk-container-id-3 pre{padding: 0;}#sk-container-id-3 div.sk-toggleable {background-color: white;}#sk-container-id-3 label.sk-toggleable__label {cursor: pointer;display: block;width: 100%;margin-bottom: 0;padding: 0.3em;box-sizing: border-box;text-align: center;}#sk-container-id-3 label.sk-toggleable__label-arrow:before {content: \"▸\";float: left;margin-right: 0.25em;color: #696969;}#sk-container-id-3 label.sk-toggleable__label-arrow:hover:before {color: black;}#sk-container-id-3 div.sk-estimator:hover label.sk-toggleable__label-arrow:before {color: black;}#sk-container-id-3 div.sk-toggleable__content {max-height: 0;max-width: 0;overflow: hidden;text-align: left;background-color: #f0f8ff;}#sk-container-id-3 div.sk-toggleable__content pre {margin: 0.2em;color: black;border-radius: 0.25em;background-color: #f0f8ff;}#sk-container-id-3 input.sk-toggleable__control:checked~div.sk-toggleable__content {max-height: 200px;max-width: 100%;overflow: auto;}#sk-container-id-3 input.sk-toggleable__control:checked~label.sk-toggleable__label-arrow:before {content: \"▾\";}#sk-container-id-3 div.sk-estimator input.sk-toggleable__control:checked~label.sk-toggleable__label {background-color: #d4ebff;}#sk-container-id-3 div.sk-label input.sk-toggleable__control:checked~label.sk-toggleable__label {background-color: #d4ebff;}#sk-container-id-3 input.sk-hidden--visually {border: 0;clip: rect(1px 1px 1px 1px);clip: rect(1px, 1px, 1px, 1px);height: 1px;margin: -1px;overflow: hidden;padding: 0;position: absolute;width: 1px;}#sk-container-id-3 div.sk-estimator {font-family: monospace;background-color: #f0f8ff;border: 1px dotted black;border-radius: 0.25em;box-sizing: border-box;margin-bottom: 0.5em;}#sk-container-id-3 div.sk-estimator:hover {background-color: #d4ebff;}#sk-container-id-3 div.sk-parallel-item::after {content: \"\";width: 100%;border-bottom: 1px solid gray;flex-grow: 1;}#sk-container-id-3 div.sk-label:hover label.sk-toggleable__label {background-color: #d4ebff;}#sk-container-id-3 div.sk-serial::before {content: \"\";position: absolute;border-left: 1px solid gray;box-sizing: border-box;top: 0;bottom: 0;left: 50%;z-index: 0;}#sk-container-id-3 div.sk-serial {display: flex;flex-direction: column;align-items: center;background-color: white;padding-right: 0.2em;padding-left: 0.2em;position: relative;}#sk-container-id-3 div.sk-item {position: relative;z-index: 1;}#sk-container-id-3 div.sk-parallel {display: flex;align-items: stretch;justify-content: center;background-color: white;position: relative;}#sk-container-id-3 div.sk-item::before, #sk-container-id-3 div.sk-parallel-item::before {content: \"\";position: absolute;border-left: 1px solid gray;box-sizing: border-box;top: 0;bottom: 0;left: 50%;z-index: -1;}#sk-container-id-3 div.sk-parallel-item {display: flex;flex-direction: column;z-index: 1;position: relative;background-color: white;}#sk-container-id-3 div.sk-parallel-item:first-child::after {align-self: flex-end;width: 50%;}#sk-container-id-3 div.sk-parallel-item:last-child::after {align-self: flex-start;width: 50%;}#sk-container-id-3 div.sk-parallel-item:only-child::after {width: 0;}#sk-container-id-3 div.sk-dashed-wrapped {border: 1px dashed gray;margin: 0 0.4em 0.5em 0.4em;box-sizing: border-box;padding-bottom: 0.4em;background-color: white;}#sk-container-id-3 div.sk-label label {font-family: monospace;font-weight: bold;display: inline-block;line-height: 1.2em;}#sk-container-id-3 div.sk-label-container {text-align: center;}#sk-container-id-3 div.sk-container {/* jupyter's `normalize.less` sets `[hidden] { display: none; }` but bootstrap.min.css set `[hidden] { display: none !important; }` so we also need the `!important` here to be able to override the default hidden behavior on the sphinx rendered scikit-learn.org. See: https://github.com/scikit-learn/scikit-learn/issues/21755 */display: inline-block !important;position: relative;}#sk-container-id-3 div.sk-text-repr-fallback {display: none;}</style><div id=\"sk-container-id-3\" class=\"sk-top-container\"><div class=\"sk-text-repr-fallback\"><pre>StandardScaler()</pre><b>In a Jupyter environment, please rerun this cell to show the HTML representation or trust the notebook. <br />On GitHub, the HTML representation is unable to render, please try loading this page with nbviewer.org.</b></div><div class=\"sk-container\" hidden><div class=\"sk-item\"><div class=\"sk-estimator sk-toggleable\"><input class=\"sk-toggleable__control sk-hidden--visually\" id=\"sk-estimator-id-3\" type=\"checkbox\" checked><label for=\"sk-estimator-id-3\" class=\"sk-toggleable__label sk-toggleable__label-arrow\">StandardScaler</label><div class=\"sk-toggleable__content\"><pre>StandardScaler()</pre></div></div></div></div></div>"
      ],
      "text/plain": [
       "StandardScaler()"
      ]
     },
     "execution_count": 50,
     "metadata": {},
     "output_type": "execute_result"
    }
   ],
   "source": [
    "ss.fit(train_input)"
   ]
  },
  {
   "cell_type": "code",
   "execution_count": 51,
   "id": "74dbdf46",
   "metadata": {},
   "outputs": [],
   "source": [
    "train_scaled = ss.transform(train_input)\n",
    "test_scaled = ss.transform(test_input)"
   ]
  },
  {
   "cell_type": "code",
   "execution_count": 52,
   "id": "32d3a74d",
   "metadata": {},
   "outputs": [],
   "source": [
    "##LOGISTIC REGRESSION\n",
    "import matplotlib.pyplot as plt"
   ]
  },
  {
   "cell_type": "code",
   "execution_count": 53,
   "id": "2fb4bd9a",
   "metadata": {},
   "outputs": [
    {
     "data": {
      "image/png": "[encoded data removed]",
      "text/plain": [
       "<Figure size 640x480 with 1 Axes>"
      ]
     },
     "metadata": {},
     "output_type": "display_data"
    }
   ],
   "source": [
    "z = np.arange(-5, 5, 0.1)\n",
    "phi = 1/(1+np.exp(-z))\n",
    "plt.plot(z,phi)\n",
    "\n",
    "plt.xlabel('z')\n",
    "plt.ylabel('phi')\n",
    "plt.show()"
   ]
  },
  {
   "cell_type": "code",
   "execution_count": 54,
   "id": "388ecc37",
   "metadata": {},
   "outputs": [],
   "source": [
    "#k 최근접 이웃 알고리즘\n",
    "from sklearn.neighbors import KNeighborsClassifier\n",
    "kn = KNeighborsClassifier(n_neighbors = 3)"
   ]
  },
  {
   "cell_type": "code",
   "execution_count": 55,
   "id": "f5b7ddf6",
   "metadata": {},
   "outputs": [
    {
     "name": "stderr",
     "output_type": "stream",
     "text": [
      "C:\\Users\\whdng\\anaconda3\\Lib\\site-packages\\sklearn\\neighbors\\_classification.py:228: DataConversionWarning: A column-vector y was passed when a 1d array was expected. Please change the shape of y to (n_samples,), for example using ravel().\n",
      "  return self._fit(X, y)\n"
     ]
    },
    {
     "data": {
      "text/html": [
       "<style>#sk-container-id-4 {color: black;}#sk-container-id-4 pre{padding: 0;}#sk-container-id-4 div.sk-toggleable {background-color: white;}#sk-container-id-4 label.sk-toggleable__label {cursor: pointer;display: block;width: 100%;margin-bottom: 0;padding: 0.3em;box-sizing: border-box;text-align: center;}#sk-container-id-4 label.sk-toggleable__label-arrow:before {content: \"▸\";float: left;margin-right: 0.25em;color: #696969;}#sk-container-id-4 label.sk-toggleable__label-arrow:hover:before {color: black;}#sk-container-id-4 div.sk-estimator:hover label.sk-toggleable__label-arrow:before {color: black;}#sk-container-id-4 div.sk-toggleable__content {max-height: 0;max-width: 0;overflow: hidden;text-align: left;background-color: #f0f8ff;}#sk-container-id-4 div.sk-toggleable__content pre {margin: 0.2em;color: black;border-radius: 0.25em;background-color: #f0f8ff;}#sk-container-id-4 input.sk-toggleable__control:checked~div.sk-toggleable__content {max-height: 200px;max-width: 100%;overflow: auto;}#sk-container-id-4 input.sk-toggleable__control:checked~label.sk-toggleable__label-arrow:before {content: \"▾\";}#sk-container-id-4 div.sk-estimator input.sk-toggleable__control:checked~label.sk-toggleable__label {background-color: #d4ebff;}#sk-container-id-4 div.sk-label input.sk-toggleable__control:checked~label.sk-toggleable__label {background-color: #d4ebff;}#sk-container-id-4 input.sk-hidden--visually {border: 0;clip: rect(1px 1px 1px 1px);clip: rect(1px, 1px, 1px, 1px);height: 1px;margin: -1px;overflow: hidden;padding: 0;position: absolute;width: 1px;}#sk-container-id-4 div.sk-estimator {font-family: monospace;background-color: #f0f8ff;border: 1px dotted black;border-radius: 0.25em;box-sizing: border-box;margin-bottom: 0.5em;}#sk-container-id-4 div.sk-estimator:hover {background-color: #d4ebff;}#sk-container-id-4 div.sk-parallel-item::after {content: \"\";width: 100%;border-bottom: 1px solid gray;flex-grow: 1;}#sk-container-id-4 div.sk-label:hover label.sk-toggleable__label {background-color: #d4ebff;}#sk-container-id-4 div.sk-serial::before {content: \"\";position: absolute;border-left: 1px solid gray;box-sizing: border-box;top: 0;bottom: 0;left: 50%;z-index: 0;}#sk-container-id-4 div.sk-serial {display: flex;flex-direction: column;align-items: center;background-color: white;padding-right: 0.2em;padding-left: 0.2em;position: relative;}#sk-container-id-4 div.sk-item {position: relative;z-index: 1;}#sk-container-id-4 div.sk-parallel {display: flex;align-items: stretch;justify-content: center;background-color: white;position: relative;}#sk-container-id-4 div.sk-item::before, #sk-container-id-4 div.sk-parallel-item::before {content: \"\";position: absolute;border-left: 1px solid gray;box-sizing: border-box;top: 0;bottom: 0;left: 50%;z-index: -1;}#sk-container-id-4 div.sk-parallel-item {display: flex;flex-direction: column;z-index: 1;position: relative;background-color: white;}#sk-container-id-4 div.sk-parallel-item:first-child::after {align-self: flex-end;width: 50%;}#sk-container-id-4 div.sk-parallel-item:last-child::after {align-self: flex-start;width: 50%;}#sk-container-id-4 div.sk-parallel-item:only-child::after {width: 0;}#sk-container-id-4 div.sk-dashed-wrapped {border: 1px dashed gray;margin: 0 0.4em 0.5em 0.4em;box-sizing: border-box;padding-bottom: 0.4em;background-color: white;}#sk-container-id-4 div.sk-label label {font-family: monospace;font-weight: bold;display: inline-block;line-height: 1.2em;}#sk-container-id-4 div.sk-label-container {text-align: center;}#sk-container-id-4 div.sk-container {/* jupyter's `normalize.less` sets `[hidden] { display: none; }` but bootstrap.min.css set `[hidden] { display: none !important; }` so we also need the `!important` here to be able to override the default hidden behavior on the sphinx rendered scikit-learn.org. See: https://github.com/scikit-learn/scikit-learn/issues/21755 */display: inline-block !important;position: relative;}#sk-container-id-4 div.sk-text-repr-fallback {display: none;}</style><div id=\"sk-container-id-4\" class=\"sk-top-container\"><div class=\"sk-text-repr-fallback\"><pre>KNeighborsClassifier(n_neighbors=3)</pre><b>In a Jupyter environment, please rerun this cell to show the HTML representation or trust the notebook. <br />On GitHub, the HTML representation is unable to render, please try loading this page with nbviewer.org.</b></div><div class=\"sk-container\" hidden><div class=\"sk-item\"><div class=\"sk-estimator sk-toggleable\"><input class=\"sk-toggleable__control sk-hidden--visually\" id=\"sk-estimator-id-4\" type=\"checkbox\" checked><label for=\"sk-estimator-id-4\" class=\"sk-toggleable__label sk-toggleable__label-arrow\">KNeighborsClassifier</label><div class=\"sk-toggleable__content\"><pre>KNeighborsClassifier(n_neighbors=3)</pre></div></div></div></div></div>"
      ],
      "text/plain": [
       "KNeighborsClassifier(n_neighbors=3)"
      ]
     },
     "execution_count": 55,
     "metadata": {},
     "output_type": "execute_result"
    }
   ],
   "source": [
    "kn.fit(train_scaled, train_target)"
   ]
  },
  {
   "cell_type": "code",
   "execution_count": 56,
   "id": "7e19166c",
   "metadata": {},
   "outputs": [
    {
     "name": "stdout",
     "output_type": "stream",
     "text": [
      "0.8907563025210085\n",
      "0.85\n"
     ]
    }
   ],
   "source": [
    "print(kn.score(train_scaled, train_target))\n",
    "print(kn.score(test_scaled, test_target))"
   ]
  },
  {
   "cell_type": "code",
   "execution_count": 57,
   "id": "32ffb006",
   "metadata": {},
   "outputs": [
    {
     "name": "stdout",
     "output_type": "stream",
     "text": [
      "['Bream' 'Parkki' 'Perch' 'Pike' 'Roach' 'Smelt' 'Whitefish']\n"
     ]
    }
   ],
   "source": [
    "print(kn.classes_)"
   ]
  },
  {
   "cell_type": "code",
   "execution_count": 58,
   "id": "89e90139",
   "metadata": {},
   "outputs": [
    {
     "name": "stdout",
     "output_type": "stream",
     "text": [
      "['Perch' 'Smelt' 'Pike' 'Perch' 'Perch']\n"
     ]
    }
   ],
   "source": [
    "print(kn.predict(test_scaled[:5]))"
   ]
  },
  {
   "cell_type": "code",
   "execution_count": 59,
   "id": "c1469b68",
   "metadata": {},
   "outputs": [
    {
     "name": "stdout",
     "output_type": "stream",
     "text": [
      "[[0.     0.     1.     0.     0.     0.     0.    ]\n",
      " [0.     0.     0.     0.     0.     1.     0.    ]\n",
      " [0.     0.     0.     1.     0.     0.     0.    ]\n",
      " [0.     0.     0.6667 0.     0.3333 0.     0.    ]\n",
      " [0.     0.     0.6667 0.     0.3333 0.     0.    ]]\n"
     ]
    }
   ],
   "source": [
    "import numpy as np\n",
    "proba = kn.predict_proba(test_scaled[:5])\n",
    "print(np.round(proba, decimals=4))"
   ]
  },
  {
   "cell_type": "code",
   "execution_count": 60,
   "id": "a0284958",
   "metadata": {},
   "outputs": [
    {
     "name": "stdout",
     "output_type": "stream",
     "text": [
      "[[['Roach']\n",
      "  ['Perch']\n",
      "  ['Perch']]]\n"
     ]
    }
   ],
   "source": [
    "distances, indexes = kn.kneighbors(test_scaled[3:4])\n",
    "print(train_target[indexes])"
   ]
  },
  {
   "cell_type": "code",
   "execution_count": 67,
   "id": "7de23dc8",
   "metadata": {},
   "outputs": [],
   "source": [
    "#로지스틱 회귀 이진 분류\n",
    "\n",
    "bream_smelt_indexes = (train_target == 'Bream')|(train_target == 'Smelt')\n"
   ]
  },
  {
   "cell_type": "code",
   "execution_count": 69,
   "id": "455f01c9",
   "metadata": {},
   "outputs": [],
   "source": [
    "import numpy as np\n",
    "\n",
    "# bream_smelt_indexes 배열을 사용하여 조건을 충족하는 행의 인덱스를 구합니다.\n",
    "selected_indexes = np.where(bream_smelt_indexes)[0]\n",
    "\n",
    "# train_scaled 배열에서 조건을 충족하는 행을 선택합니다.\n",
    "train_smelt_data = train_scaled[selected_indexes]\n"
   ]
  },
  {
   "cell_type": "code",
   "execution_count": 70,
   "id": "d9cd20bd",
   "metadata": {},
   "outputs": [
    {
     "data": {
      "text/plain": [
       "array([[ True],\n",
       "       [False],\n",
       "       [ True],\n",
       "       [False],\n",
       "       [False],\n",
       "       [False],\n",
       "       [False],\n",
       "       [ True],\n",
       "       [False],\n",
       "       [False],\n",
       "       [False],\n",
       "       [ True],\n",
       "       [False],\n",
       "       [False],\n",
       "       [False],\n",
       "       [ True],\n",
       "       [ True],\n",
       "       [False],\n",
       "       [False],\n",
       "       [ True],\n",
       "       [False],\n",
       "       [ True],\n",
       "       [False],\n",
       "       [False],\n",
       "       [False],\n",
       "       [ True],\n",
       "       [False],\n",
       "       [False],\n",
       "       [ True],\n",
       "       [False],\n",
       "       [False],\n",
       "       [False],\n",
       "       [False],\n",
       "       [ True],\n",
       "       [False],\n",
       "       [False],\n",
       "       [ True],\n",
       "       [ True],\n",
       "       [False],\n",
       "       [False],\n",
       "       [False],\n",
       "       [False],\n",
       "       [False],\n",
       "       [ True],\n",
       "       [False],\n",
       "       [False],\n",
       "       [False],\n",
       "       [False],\n",
       "       [False],\n",
       "       [ True],\n",
       "       [False],\n",
       "       [ True],\n",
       "       [False],\n",
       "       [False],\n",
       "       [ True],\n",
       "       [False],\n",
       "       [False],\n",
       "       [False],\n",
       "       [ True],\n",
       "       [False],\n",
       "       [False],\n",
       "       [False],\n",
       "       [False],\n",
       "       [False],\n",
       "       [False],\n",
       "       [ True],\n",
       "       [False],\n",
       "       [ True],\n",
       "       [False],\n",
       "       [False],\n",
       "       [False],\n",
       "       [False],\n",
       "       [False],\n",
       "       [False],\n",
       "       [False],\n",
       "       [False],\n",
       "       [False],\n",
       "       [ True],\n",
       "       [False],\n",
       "       [ True],\n",
       "       [False],\n",
       "       [False],\n",
       "       [ True],\n",
       "       [ True],\n",
       "       [False],\n",
       "       [False],\n",
       "       [False],\n",
       "       [ True],\n",
       "       [False],\n",
       "       [False],\n",
       "       [False],\n",
       "       [False],\n",
       "       [False],\n",
       "       [ True],\n",
       "       [False],\n",
       "       [False],\n",
       "       [False],\n",
       "       [ True],\n",
       "       [False],\n",
       "       [ True],\n",
       "       [False],\n",
       "       [False],\n",
       "       [ True],\n",
       "       [ True],\n",
       "       [False],\n",
       "       [False],\n",
       "       [False],\n",
       "       [False],\n",
       "       [False],\n",
       "       [False],\n",
       "       [False],\n",
       "       [False],\n",
       "       [ True],\n",
       "       [ True],\n",
       "       [False],\n",
       "       [False],\n",
       "       [ True],\n",
       "       [False],\n",
       "       [False]])"
      ]
     },
     "execution_count": 70,
     "metadata": {},
     "output_type": "execute_result"
    }
   ],
   "source": [
    "bream_smelt_indexes"
   ]
  },
  {
   "cell_type": "code",
   "execution_count": 71,
   "id": "ba25d89f",
   "metadata": {},
   "outputs": [
    {
     "data": {
      "text/plain": [
       "array([  0,   2,   7,  11,  15,  16,  19,  21,  25,  28,  33,  36,  37,\n",
       "        43,  49,  51,  54,  58,  65,  67,  77,  79,  82,  83,  87,  93,\n",
       "        97,  99, 102, 103, 112, 113, 116], dtype=int64)"
      ]
     },
     "execution_count": 71,
     "metadata": {},
     "output_type": "execute_result"
    }
   ],
   "source": [
    "selected_indexes"
   ]
  },
  {
   "cell_type": "code",
   "execution_count": 73,
   "id": "62ef0cd4",
   "metadata": {},
   "outputs": [],
   "source": [
    "selected_indexes1 = np.where(bream_smelt_indexes)[0]\n",
    "target_bream_smelt = train_target[selected_indexes1]"
   ]
  },
  {
   "cell_type": "code",
   "execution_count": 75,
   "id": "2f3d613a",
   "metadata": {},
   "outputs": [
    {
     "name": "stderr",
     "output_type": "stream",
     "text": [
      "C:\\Users\\whdng\\anaconda3\\Lib\\site-packages\\sklearn\\utils\\validation.py:1184: DataConversionWarning: A column-vector y was passed when a 1d array was expected. Please change the shape of y to (n_samples, ), for example using ravel().\n",
      "  y = column_or_1d(y, warn=True)\n"
     ]
    },
    {
     "data": {
      "text/html": [
       "<style>#sk-container-id-5 {color: black;}#sk-container-id-5 pre{padding: 0;}#sk-container-id-5 div.sk-toggleable {background-color: white;}#sk-container-id-5 label.sk-toggleable__label {cursor: pointer;display: block;width: 100%;margin-bottom: 0;padding: 0.3em;box-sizing: border-box;text-align: center;}#sk-container-id-5 label.sk-toggleable__label-arrow:before {content: \"▸\";float: left;margin-right: 0.25em;color: #696969;}#sk-container-id-5 label.sk-toggleable__label-arrow:hover:before {color: black;}#sk-container-id-5 div.sk-estimator:hover label.sk-toggleable__label-arrow:before {color: black;}#sk-container-id-5 div.sk-toggleable__content {max-height: 0;max-width: 0;overflow: hidden;text-align: left;background-color: #f0f8ff;}#sk-container-id-5 div.sk-toggleable__content pre {margin: 0.2em;color: black;border-radius: 0.25em;background-color: #f0f8ff;}#sk-container-id-5 input.sk-toggleable__control:checked~div.sk-toggleable__content {max-height: 200px;max-width: 100%;overflow: auto;}#sk-container-id-5 input.sk-toggleable__control:checked~label.sk-toggleable__label-arrow:before {content: \"▾\";}#sk-container-id-5 div.sk-estimator input.sk-toggleable__control:checked~label.sk-toggleable__label {background-color: #d4ebff;}#sk-container-id-5 div.sk-label input.sk-toggleable__control:checked~label.sk-toggleable__label {background-color: #d4ebff;}#sk-container-id-5 input.sk-hidden--visually {border: 0;clip: rect(1px 1px 1px 1px);clip: rect(1px, 1px, 1px, 1px);height: 1px;margin: -1px;overflow: hidden;padding: 0;position: absolute;width: 1px;}#sk-container-id-5 div.sk-estimator {font-family: monospace;background-color: #f0f8ff;border: 1px dotted black;border-radius: 0.25em;box-sizing: border-box;margin-bottom: 0.5em;}#sk-container-id-5 div.sk-estimator:hover {background-color: #d4ebff;}#sk-container-id-5 div.sk-parallel-item::after {content: \"\";width: 100%;border-bottom: 1px solid gray;flex-grow: 1;}#sk-container-id-5 div.sk-label:hover label.sk-toggleable__label {background-color: #d4ebff;}#sk-container-id-5 div.sk-serial::before {content: \"\";position: absolute;border-left: 1px solid gray;box-sizing: border-box;top: 0;bottom: 0;left: 50%;z-index: 0;}#sk-container-id-5 div.sk-serial {display: flex;flex-direction: column;align-items: center;background-color: white;padding-right: 0.2em;padding-left: 0.2em;position: relative;}#sk-container-id-5 div.sk-item {position: relative;z-index: 1;}#sk-container-id-5 div.sk-parallel {display: flex;align-items: stretch;justify-content: center;background-color: white;position: relative;}#sk-container-id-5 div.sk-item::before, #sk-container-id-5 div.sk-parallel-item::before {content: \"\";position: absolute;border-left: 1px solid gray;box-sizing: border-box;top: 0;bottom: 0;left: 50%;z-index: -1;}#sk-container-id-5 div.sk-parallel-item {display: flex;flex-direction: column;z-index: 1;position: relative;background-color: white;}#sk-container-id-5 div.sk-parallel-item:first-child::after {align-self: flex-end;width: 50%;}#sk-container-id-5 div.sk-parallel-item:last-child::after {align-self: flex-start;width: 50%;}#sk-container-id-5 div.sk-parallel-item:only-child::after {width: 0;}#sk-container-id-5 div.sk-dashed-wrapped {border: 1px dashed gray;margin: 0 0.4em 0.5em 0.4em;box-sizing: border-box;padding-bottom: 0.4em;background-color: white;}#sk-container-id-5 div.sk-label label {font-family: monospace;font-weight: bold;display: inline-block;line-height: 1.2em;}#sk-container-id-5 div.sk-label-container {text-align: center;}#sk-container-id-5 div.sk-container {/* jupyter's `normalize.less` sets `[hidden] { display: none; }` but bootstrap.min.css set `[hidden] { display: none !important; }` so we also need the `!important` here to be able to override the default hidden behavior on the sphinx rendered scikit-learn.org. See: https://github.com/scikit-learn/scikit-learn/issues/21755 */display: inline-block !important;position: relative;}#sk-container-id-5 div.sk-text-repr-fallback {display: none;}</style><div id=\"sk-container-id-5\" class=\"sk-top-container\"><div class=\"sk-text-repr-fallback\"><pre>LogisticRegression()</pre><b>In a Jupyter environment, please rerun this cell to show the HTML representation or trust the notebook. <br />On GitHub, the HTML representation is unable to render, please try loading this page with nbviewer.org.</b></div><div class=\"sk-container\" hidden><div class=\"sk-item\"><div class=\"sk-estimator sk-toggleable\"><input class=\"sk-toggleable__control sk-hidden--visually\" id=\"sk-estimator-id-5\" type=\"checkbox\" checked><label for=\"sk-estimator-id-5\" class=\"sk-toggleable__label sk-toggleable__label-arrow\">LogisticRegression</label><div class=\"sk-toggleable__content\"><pre>LogisticRegression()</pre></div></div></div></div></div>"
      ],
      "text/plain": [
       "LogisticRegression()"
      ]
     },
     "execution_count": 75,
     "metadata": {},
     "output_type": "execute_result"
    }
   ],
   "source": [
    "from sklearn.linear_model import LogisticRegression\n",
    "lr = LogisticRegression()\n",
    "lr.fit(train_smelt_data, target_bream_smelt)"
   ]
  },
  {
   "cell_type": "code",
   "execution_count": 77,
   "id": "68c512fd",
   "metadata": {},
   "outputs": [
    {
     "name": "stdout",
     "output_type": "stream",
     "text": [
      "['Bream' 'Smelt' 'Bream' 'Bream' 'Bream']\n"
     ]
    }
   ],
   "source": [
    "print(lr.predict(train_smelt_data[:5]))"
   ]
  },
  {
   "cell_type": "code",
   "execution_count": 78,
   "id": "68be2004",
   "metadata": {},
   "outputs": [
    {
     "name": "stdout",
     "output_type": "stream",
     "text": [
      "[[0.99759855 0.00240145]\n",
      " [0.02735183 0.97264817]\n",
      " [0.99486072 0.00513928]\n",
      " [0.98584202 0.01415798]\n",
      " [0.99767269 0.00232731]]\n"
     ]
    }
   ],
   "source": [
    "print(lr.predict_proba(train_smelt_data[:5]))"
   ]
  },
  {
   "cell_type": "code",
   "execution_count": 79,
   "id": "27481b8f",
   "metadata": {},
   "outputs": [
    {
     "name": "stdout",
     "output_type": "stream",
     "text": [
      "['Bream' 'Smelt']\n"
     ]
    }
   ],
   "source": [
    "print(lr.classes_)"
   ]
  },
  {
   "cell_type": "code",
   "execution_count": 80,
   "id": "a46dd27d",
   "metadata": {},
   "outputs": [
    {
     "name": "stdout",
     "output_type": "stream",
     "text": [
      "[[-0.4037798  -0.57620209 -0.66280298 -1.01290277 -0.73168947]] [-2.16155132]\n"
     ]
    }
   ],
   "source": [
    "print(lr.coef_, lr.intercept_)"
   ]
  },
  {
   "cell_type": "code",
   "execution_count": 82,
   "id": "61d63e40",
   "metadata": {},
   "outputs": [],
   "source": [
    "decisions = lr.decision_function(train_smelt_data[:5])"
   ]
  },
  {
   "cell_type": "code",
   "execution_count": 83,
   "id": "0686fff3",
   "metadata": {},
   "outputs": [
    {
     "name": "stdout",
     "output_type": "stream",
     "text": [
      "[-6.02927744  3.57123907 -5.26568906 -4.24321775 -6.0607117 ]\n"
     ]
    }
   ],
   "source": [
    "print(decisions)"
   ]
  },
  {
   "cell_type": "code",
   "execution_count": 86,
   "id": "1c1753d4",
   "metadata": {},
   "outputs": [],
   "source": [
    "from scipy.special import expit"
   ]
  },
  {
   "cell_type": "code",
   "execution_count": 87,
   "id": "9e5fcac6",
   "metadata": {},
   "outputs": [
    {
     "name": "stdout",
     "output_type": "stream",
     "text": [
      "[0.00240145 0.97264817 0.00513928 0.01415798 0.00232731]\n"
     ]
    }
   ],
   "source": [
    "print(expit(decisions))"
   ]
  },
  {
   "cell_type": "code",
   "execution_count": 88,
   "id": "c1c0a679",
   "metadata": {},
   "outputs": [
    {
     "name": "stdout",
     "output_type": "stream",
     "text": [
      "0.9327731092436975\n"
     ]
    },
    {
     "name": "stderr",
     "output_type": "stream",
     "text": [
      "C:\\Users\\whdng\\anaconda3\\Lib\\site-packages\\sklearn\\utils\\validation.py:1184: DataConversionWarning: A column-vector y was passed when a 1d array was expected. Please change the shape of y to (n_samples, ), for example using ravel().\n",
      "  y = column_or_1d(y, warn=True)\n"
     ]
    }
   ],
   "source": [
    " ##로지스틱 회귀 다중 분류\n",
    "    \n",
    "lr = LogisticRegression(C=20, max_iter=1000)\n",
    "lr.fit(train_scaled, train_target)\n",
    "print(lr.score(train_scaled, train_target))"
   ]
  },
  {
   "cell_type": "code",
   "execution_count": 89,
   "id": "6c80932f",
   "metadata": {},
   "outputs": [
    {
     "name": "stdout",
     "output_type": "stream",
     "text": [
      "0.925\n",
      "['Perch' 'Smelt' 'Pike' 'Roach' 'Perch']\n",
      "[[0.    0.014 0.841 0.    0.136 0.007 0.003]\n",
      " [0.    0.003 0.044 0.    0.007 0.946 0.   ]\n",
      " [0.    0.    0.034 0.935 0.015 0.016 0.   ]\n",
      " [0.011 0.034 0.306 0.007 0.567 0.    0.076]\n",
      " [0.    0.    0.904 0.002 0.089 0.002 0.001]]\n",
      "['Bream' 'Parkki' 'Perch' 'Pike' 'Roach' 'Smelt' 'Whitefish']\n",
      "(7, 5) (7,)\n",
      "[[ -6.5    1.03   5.16  -2.73   3.34   0.33  -0.63]\n",
      " [-10.86   1.93   4.77  -2.4    2.98   7.84  -4.26]\n",
      " [ -4.34  -6.23   3.17   6.49   2.36   2.42  -3.87]\n",
      " [ -0.68   0.45   2.65  -1.19   3.26  -5.75   1.26]\n",
      " [ -6.4   -1.99   5.82  -0.11   3.5   -0.11  -0.71]]\n",
      "[[0.    0.014 0.841 0.    0.136 0.007 0.003]\n",
      " [0.    0.003 0.044 0.    0.007 0.946 0.   ]\n",
      " [0.    0.    0.034 0.935 0.015 0.016 0.   ]\n",
      " [0.011 0.034 0.306 0.007 0.567 0.    0.076]\n",
      " [0.    0.    0.904 0.002 0.089 0.002 0.001]]\n"
     ]
    }
   ],
   "source": [
    "print(lr.score(test_scaled, test_target))\n",
    "\n",
    "print(lr.predict(test_scaled[:5]))\n",
    "\n",
    "proba = lr.predict_proba(test_scaled[:5])\n",
    "print(np.round(proba, decimals=3))\n",
    "\n",
    "print(lr.classes_)\n",
    "\n",
    "print(lr.coef_.shape, lr.intercept_.shape)\n",
    "\n",
    "decision = lr.decision_function(test_scaled[:5])\n",
    "print(np.round(decision, decimals=2))\n",
    "\n",
    "from scipy.special import softmax\n",
    "\n",
    "proba = softmax(decision, axis = 1)\n",
    "print(np.round(proba, decimals=3))\n",
    "\n"
   ]
  },
  {
   "cell_type": "code",
   "execution_count": null,
   "id": "c9607332",
   "metadata": {},
   "outputs": [],
   "source": []
  }
 ],
 "metadata": {
  "kernelspec": {
   "display_name": "Python 3 (ipykernel)",
   "language": "python",
   "name": "python3"
  },
  "language_info": {
   "codemirror_mode": {
    "name": "ipython",
    "version": 3
   },
   "file_extension": ".py",
   "mimetype": "text/x-python",
   "name": "python",
   "nbconvert_exporter": "python",
   "pygments_lexer": "ipython3",
   "version": "3.11.5"
  }
 },
 "nbformat": 4,
 "nbformat_minor": 5
}
